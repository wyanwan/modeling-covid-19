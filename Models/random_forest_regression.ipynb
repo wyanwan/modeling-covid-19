{
 "cells": [
  {
   "cell_type": "code",
   "execution_count": 1,
   "id": "57d2df06",
   "metadata": {},
   "outputs": [],
   "source": [
    "# Imports\n",
    "import pandas as pd\n",
    "import numpy as np\n",
    "import seaborn as sns\n",
    "import matplotlib.pyplot as plt"
   ]
  },
  {
   "cell_type": "markdown",
   "id": "760f40ba",
   "metadata": {},
   "source": [
    "#### Data preprocessing"
   ]
  },
  {
   "cell_type": "code",
   "execution_count": 2,
   "id": "06b23800",
   "metadata": {},
   "outputs": [],
   "source": [
    "# Reading in LA County case and death data\n",
    "# 1/26/2020 through 2/22/2022 for this iteration\n",
    "la = pd.read_csv('https://raw.githubusercontent.com/nmonozon/modeling-covid-19/main/Datasets/covid-19-los-angeles-county.csv', index_col='date')[0:759]"
   ]
  },
  {
   "cell_type": "code",
   "execution_count": 3,
   "id": "8793504e",
   "metadata": {},
   "outputs": [
    {
     "data": {
      "text/html": [
       "<div>\n",
       "<style scoped>\n",
       "    .dataframe tbody tr th:only-of-type {\n",
       "        vertical-align: middle;\n",
       "    }\n",
       "\n",
       "    .dataframe tbody tr th {\n",
       "        vertical-align: top;\n",
       "    }\n",
       "\n",
       "    .dataframe thead th {\n",
       "        text-align: right;\n",
       "    }\n",
       "</style>\n",
       "<table border=\"1\" class=\"dataframe\">\n",
       "  <thead>\n",
       "    <tr style=\"text-align: right;\">\n",
       "      <th></th>\n",
       "      <th>day</th>\n",
       "      <th>county</th>\n",
       "      <th>state</th>\n",
       "      <th>fips</th>\n",
       "      <th>cases</th>\n",
       "      <th>deaths</th>\n",
       "    </tr>\n",
       "    <tr>\n",
       "      <th>date</th>\n",
       "      <th></th>\n",
       "      <th></th>\n",
       "      <th></th>\n",
       "      <th></th>\n",
       "      <th></th>\n",
       "      <th></th>\n",
       "    </tr>\n",
       "  </thead>\n",
       "  <tbody>\n",
       "    <tr>\n",
       "      <th>2022-02-18</th>\n",
       "      <td>755</td>\n",
       "      <td>Los Angeles</td>\n",
       "      <td>California</td>\n",
       "      <td>6037.0</td>\n",
       "      <td>2777869</td>\n",
       "      <td>30216.0</td>\n",
       "    </tr>\n",
       "    <tr>\n",
       "      <th>2022-02-19</th>\n",
       "      <td>756</td>\n",
       "      <td>Los Angeles</td>\n",
       "      <td>California</td>\n",
       "      <td>6037.0</td>\n",
       "      <td>2781027</td>\n",
       "      <td>30300.0</td>\n",
       "    </tr>\n",
       "    <tr>\n",
       "      <th>2022-02-20</th>\n",
       "      <td>757</td>\n",
       "      <td>Los Angeles</td>\n",
       "      <td>California</td>\n",
       "      <td>6037.0</td>\n",
       "      <td>2783657</td>\n",
       "      <td>30356.0</td>\n",
       "    </tr>\n",
       "    <tr>\n",
       "      <th>2022-02-21</th>\n",
       "      <td>758</td>\n",
       "      <td>Los Angeles</td>\n",
       "      <td>California</td>\n",
       "      <td>6037.0</td>\n",
       "      <td>2784980</td>\n",
       "      <td>30376.0</td>\n",
       "    </tr>\n",
       "    <tr>\n",
       "      <th>2022-02-22</th>\n",
       "      <td>759</td>\n",
       "      <td>Los Angeles</td>\n",
       "      <td>California</td>\n",
       "      <td>6037.0</td>\n",
       "      <td>2786153</td>\n",
       "      <td>30411.0</td>\n",
       "    </tr>\n",
       "  </tbody>\n",
       "</table>\n",
       "</div>"
      ],
      "text/plain": [
       "            day       county       state    fips    cases   deaths\n",
       "date                                                              \n",
       "2022-02-18  755  Los Angeles  California  6037.0  2777869  30216.0\n",
       "2022-02-19  756  Los Angeles  California  6037.0  2781027  30300.0\n",
       "2022-02-20  757  Los Angeles  California  6037.0  2783657  30356.0\n",
       "2022-02-21  758  Los Angeles  California  6037.0  2784980  30376.0\n",
       "2022-02-22  759  Los Angeles  California  6037.0  2786153  30411.0"
      ]
     },
     "execution_count": 3,
     "metadata": {},
     "output_type": "execute_result"
    }
   ],
   "source": [
    "la.tail()"
   ]
  },
  {
   "cell_type": "code",
   "execution_count": 4,
   "id": "1bbe7090",
   "metadata": {},
   "outputs": [
    {
     "name": "stderr",
     "output_type": "stream",
     "text": [
      "C:\\Users\\Nicolas\\anaconda3\\lib\\site-packages\\pandas\\core\\indexing.py:1732: SettingWithCopyWarning: \n",
      "A value is trying to be set on a copy of a slice from a DataFrame\n",
      "\n",
      "See the caveats in the documentation: https://pandas.pydata.org/pandas-docs/stable/user_guide/indexing.html#returning-a-view-versus-a-copy\n",
      "  self._setitem_single_block(indexer, value, name)\n"
     ]
    }
   ],
   "source": [
    "# Column for new cases per day\n",
    "la['new_cases'] = 0 \n",
    "for i in range(1,len(la)):\n",
    "    la['new_cases'].iloc[i] = la['cases'].iloc[i] - la['cases'].iloc[i-1]"
   ]
  },
  {
   "cell_type": "code",
   "execution_count": 5,
   "id": "2488f433",
   "metadata": {},
   "outputs": [],
   "source": [
    "for i in range(3,31,1):\n",
    "    la[f'new_cases_lag_{i}'] = la['new_cases'].shift(i)"
   ]
  },
  {
   "cell_type": "code",
   "execution_count": 6,
   "id": "4bc8c144",
   "metadata": {},
   "outputs": [],
   "source": [
    "predictors = [col for col in la.columns if col.startswith('new_cases_lag_')] + ['new_cases']\n",
    "model1_df = la[predictors]"
   ]
  },
  {
   "cell_type": "code",
   "execution_count": 7,
   "id": "9d576c1d",
   "metadata": {},
   "outputs": [
    {
     "name": "stderr",
     "output_type": "stream",
     "text": [
      "C:\\Users\\Nicolas\\anaconda3\\lib\\site-packages\\pandas\\util\\_decorators.py:311: SettingWithCopyWarning: \n",
      "A value is trying to be set on a copy of a slice from a DataFrame\n",
      "\n",
      "See the caveats in the documentation: https://pandas.pydata.org/pandas-docs/stable/user_guide/indexing.html#returning-a-view-versus-a-copy\n",
      "  return func(*args, **kwargs)\n"
     ]
    }
   ],
   "source": [
    "model1_df.dropna(inplace = True)"
   ]
  },
  {
   "cell_type": "code",
   "execution_count": 8,
   "id": "a9dd3c0c",
   "metadata": {},
   "outputs": [],
   "source": [
    "la['week'] = la['day'] // 7\n",
    "weekly_la = la.groupby('week')[['new_cases']].sum()\n",
    "weekly_la['one_week_before'] = weekly_la['new_cases'].shift(1)\n",
    "weekly_la['change'] = weekly_la['new_cases'].shift(1) - weekly_la['new_cases'].shift(2)\n",
    "weekly_la.dropna(inplace = True)\n",
    "weekly_la = weekly_la.iloc[1::]"
   ]
  },
  {
   "cell_type": "code",
   "execution_count": 9,
   "id": "e5f671e5",
   "metadata": {},
   "outputs": [
    {
     "data": {
      "text/html": [
       "<div>\n",
       "<style scoped>\n",
       "    .dataframe tbody tr th:only-of-type {\n",
       "        vertical-align: middle;\n",
       "    }\n",
       "\n",
       "    .dataframe tbody tr th {\n",
       "        vertical-align: top;\n",
       "    }\n",
       "\n",
       "    .dataframe thead th {\n",
       "        text-align: right;\n",
       "    }\n",
       "</style>\n",
       "<table border=\"1\" class=\"dataframe\">\n",
       "  <thead>\n",
       "    <tr style=\"text-align: right;\">\n",
       "      <th></th>\n",
       "      <th>new_cases</th>\n",
       "      <th>one_week_before</th>\n",
       "      <th>change</th>\n",
       "    </tr>\n",
       "    <tr>\n",
       "      <th>week</th>\n",
       "      <th></th>\n",
       "      <th></th>\n",
       "      <th></th>\n",
       "    </tr>\n",
       "  </thead>\n",
       "  <tbody>\n",
       "    <tr>\n",
       "      <th>3</th>\n",
       "      <td>0</td>\n",
       "      <td>0.0</td>\n",
       "      <td>0.0</td>\n",
       "    </tr>\n",
       "    <tr>\n",
       "      <th>4</th>\n",
       "      <td>0</td>\n",
       "      <td>0.0</td>\n",
       "      <td>0.0</td>\n",
       "    </tr>\n",
       "    <tr>\n",
       "      <th>5</th>\n",
       "      <td>12</td>\n",
       "      <td>0.0</td>\n",
       "      <td>0.0</td>\n",
       "    </tr>\n",
       "    <tr>\n",
       "      <th>6</th>\n",
       "      <td>27</td>\n",
       "      <td>12.0</td>\n",
       "      <td>12.0</td>\n",
       "    </tr>\n",
       "    <tr>\n",
       "      <th>7</th>\n",
       "      <td>252</td>\n",
       "      <td>27.0</td>\n",
       "      <td>15.0</td>\n",
       "    </tr>\n",
       "    <tr>\n",
       "      <th>...</th>\n",
       "      <td>...</td>\n",
       "      <td>...</td>\n",
       "      <td>...</td>\n",
       "    </tr>\n",
       "    <tr>\n",
       "      <th>104</th>\n",
       "      <td>181641</td>\n",
       "      <td>256736.0</td>\n",
       "      <td>-27746.0</td>\n",
       "    </tr>\n",
       "    <tr>\n",
       "      <th>105</th>\n",
       "      <td>99977</td>\n",
       "      <td>181641.0</td>\n",
       "      <td>-75095.0</td>\n",
       "    </tr>\n",
       "    <tr>\n",
       "      <th>106</th>\n",
       "      <td>42036</td>\n",
       "      <td>99977.0</td>\n",
       "      <td>-81664.0</td>\n",
       "    </tr>\n",
       "    <tr>\n",
       "      <th>107</th>\n",
       "      <td>24767</td>\n",
       "      <td>42036.0</td>\n",
       "      <td>-57941.0</td>\n",
       "    </tr>\n",
       "    <tr>\n",
       "      <th>108</th>\n",
       "      <td>8284</td>\n",
       "      <td>24767.0</td>\n",
       "      <td>-17269.0</td>\n",
       "    </tr>\n",
       "  </tbody>\n",
       "</table>\n",
       "<p>106 rows × 3 columns</p>\n",
       "</div>"
      ],
      "text/plain": [
       "      new_cases  one_week_before   change\n",
       "week                                     \n",
       "3             0              0.0      0.0\n",
       "4             0              0.0      0.0\n",
       "5            12              0.0      0.0\n",
       "6            27             12.0     12.0\n",
       "7           252             27.0     15.0\n",
       "...         ...              ...      ...\n",
       "104      181641         256736.0 -27746.0\n",
       "105       99977         181641.0 -75095.0\n",
       "106       42036          99977.0 -81664.0\n",
       "107       24767          42036.0 -57941.0\n",
       "108        8284          24767.0 -17269.0\n",
       "\n",
       "[106 rows x 3 columns]"
      ]
     },
     "execution_count": 9,
     "metadata": {},
     "output_type": "execute_result"
    }
   ],
   "source": [
    "weekly_la"
   ]
  },
  {
   "cell_type": "code",
   "execution_count": 10,
   "id": "c72fe682",
   "metadata": {},
   "outputs": [
    {
     "data": {
      "text/plain": [
       "0.5102021100711419"
      ]
     },
     "execution_count": 10,
     "metadata": {},
     "output_type": "execute_result"
    }
   ],
   "source": [
    "# RF cross-validation\n",
    "from sklearn.model_selection import cross_val_score\n",
    "from sklearn.ensemble import RandomForestRegressor\n",
    "rf = RandomForestRegressor()\n",
    "cv = cross_val_score(rf, model1_df.drop(columns = ['new_cases']), \n",
    "                     model1_df['new_cases'], scoring = 'neg_mean_absolute_error', cv = 5)\n",
    "-1 * np.mean(cv) / model1_df.new_cases.mean()"
   ]
  },
  {
   "cell_type": "code",
   "execution_count": 11,
   "id": "85b1f954",
   "metadata": {},
   "outputs": [],
   "source": [
    "# Alternate approach: Predicting Weekly Cases\n",
    "weekly_la = la.groupby('week')[['new_cases']].sum()"
   ]
  },
  {
   "cell_type": "code",
   "execution_count": 12,
   "id": "79270ac8",
   "metadata": {},
   "outputs": [],
   "source": [
    "weekly_la['one_week_before'] = weekly_la['new_cases'].shift(1)\n",
    "weekly_la['momentum'] = weekly_la['new_cases'].shift(1) - weekly_la['new_cases'].shift(2)"
   ]
  },
  {
   "cell_type": "code",
   "execution_count": 13,
   "id": "6e177cac",
   "metadata": {},
   "outputs": [],
   "source": [
    "weekly_la.dropna(inplace = True)"
   ]
  },
  {
   "cell_type": "code",
   "execution_count": 14,
   "id": "cb66beed",
   "metadata": {},
   "outputs": [
    {
     "data": {
      "text/plain": [
       "0.42990622677730855"
      ]
     },
     "execution_count": 14,
     "metadata": {},
     "output_type": "execute_result"
    }
   ],
   "source": [
    "from sklearn.ensemble import RandomForestRegressor\n",
    "rf = RandomForestRegressor()\n",
    "cv = cross_val_score(rf, weekly_la.drop(columns = ['new_cases']), \n",
    "                     weekly_la['new_cases'], scoring = 'neg_mean_absolute_error', cv = 5)\n",
    "-1 * np.mean(cv) / weekly_la.new_cases.mean()"
   ]
  },
  {
   "cell_type": "code",
   "execution_count": 15,
   "id": "9f10d325",
   "metadata": {},
   "outputs": [],
   "source": [
    "rf.fit(weekly_la.drop(columns = ['new_cases']), \n",
    "                     weekly_la['new_cases'])\n",
    "preds_rf = rf.predict(weekly_la.drop(columns = ['new_cases']))"
   ]
  },
  {
   "cell_type": "code",
   "execution_count": 16,
   "id": "d00676af",
   "metadata": {},
   "outputs": [
    {
     "data": {
      "text/plain": [
       "<matplotlib.legend.Legend at 0x2606d895a30>"
      ]
     },
     "execution_count": 16,
     "metadata": {},
     "output_type": "execute_result"
    },
    {
     "data": {
      "image/png": "[encoded data removed]",
      "text/plain": [
       "<Figure size 1152x720 with 1 Axes>"
      ]
     },
     "metadata": {
      "needs_background": "light"
     },
     "output_type": "display_data"
    }
   ],
   "source": [
    "plt.figure(figsize = (16,10))\n",
    "plt.plot(weekly_la['new_cases'], label = 'Confirmed Weekly Cases')\n",
    "plt.plot(rf.predict(weekly_la.drop(columns = ['new_cases'])), label = 'Random Forest Regression Predicted Weekly Cases', color='tab:red', linestyle='dashed')\n",
    "plt.xlabel('Weeks Since 1/26/2020', fontsize=18)\n",
    "plt.ylabel('New Cases', fontsize=18)\n",
    "plt.title('Random Forest Regression Weekly COVID-19 Predicted Cases for LA County', fontsize=22)\n",
    "plt.legend(prop={'size': 14})\n",
    "# plt.savefig(\"rf.png\")\n",
    "# files.download(\"rf.png\") "
   ]
  },
  {
   "cell_type": "code",
   "execution_count": 17,
   "id": "e9627b44",
   "metadata": {},
   "outputs": [
    {
     "data": {
      "text/plain": [
       "3335.366507343125"
      ]
     },
     "execution_count": 17,
     "metadata": {},
     "output_type": "execute_result"
    }
   ],
   "source": [
    "from sklearn.metrics import mean_absolute_error\n",
    "print('MAE:mean_absolute_error(weekly_la['new_cases'], preds_rf)"
   ]
  },
  {
   "cell_type": "code",
   "execution_count": 18,
   "id": "15171c26",
   "metadata": {},
   "outputs": [
    {
     "name": "stdout",
     "output_type": "stream",
     "text": [
      "R^2: 0.9735012991072503\n"
     ]
    }
   ],
   "source": [
    "from sklearn.metrics import r2_score\n",
    "print('R^2:', r2_score(weekly_la['new_cases'], preds_rf))"
   ]
  },
  {
   "cell_type": "code",
   "execution_count": null,
   "id": "ce0a85aa",
   "metadata": {},
   "outputs": [],
   "source": []
  }
 ],
 "metadata": {
  "kernelspec": {
   "display_name": "Python 3 (ipykernel)",
   "language": "python",
   "name": "python3"
  },
  "language_info": {
   "codemirror_mode": {
    "name": "ipython",
    "version": 3
   },
   "file_extension": ".py",
   "mimetype": "text/x-python",
   "name": "python",
   "nbconvert_exporter": "python",
   "pygments_lexer": "ipython3",
   "version": "3.9.7"
  }
 },
 "nbformat": 4,
 "nbformat_minor": 5
}
