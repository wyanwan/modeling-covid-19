{
 "cells": [
  {
   "cell_type": "code",
   "execution_count": 32,
   "id": "749269a6",
   "metadata": {},
   "outputs": [],
   "source": [
    "# Imports\n",
    "import pandas as pd\n",
    "import numpy as np\n",
    "import seaborn as sns\n",
    "import matplotlib.pyplot as plt"
   ]
  },
  {
   "cell_type": "markdown",
   "id": "43cca42f",
   "metadata": {},
   "source": [
    "#### Data preprocessing"
   ]
  },
  {
   "cell_type": "code",
   "execution_count": 33,
   "id": "44cadc4e",
   "metadata": {},
   "outputs": [],
   "source": [
    "# Reading in LA County case and death data\n",
    "# Dates 1/26/2020 through 2/22/2022 for this iteration\n",
    "la = pd.read_csv('https://raw.githubusercontent.com/nmonozon/modeling-covid-19/main/Datasets/covid-19-los-angeles-county.csv', index_col='date')[0:759]"
   ]
  },
  {
   "cell_type": "code",
   "execution_count": 34,
   "id": "6b2c9da3",
   "metadata": {},
   "outputs": [
    {
     "data": {
      "text/html": [
       "<div>\n",
       "<style scoped>\n",
       "    .dataframe tbody tr th:only-of-type {\n",
       "        vertical-align: middle;\n",
       "    }\n",
       "\n",
       "    .dataframe tbody tr th {\n",
       "        vertical-align: top;\n",
       "    }\n",
       "\n",
       "    .dataframe thead th {\n",
       "        text-align: right;\n",
       "    }\n",
       "</style>\n",
       "<table border=\"1\" class=\"dataframe\">\n",
       "  <thead>\n",
       "    <tr style=\"text-align: right;\">\n",
       "      <th></th>\n",
       "      <th>day</th>\n",
       "      <th>county</th>\n",
       "      <th>state</th>\n",
       "      <th>fips</th>\n",
       "      <th>cases</th>\n",
       "      <th>deaths</th>\n",
       "    </tr>\n",
       "    <tr>\n",
       "      <th>date</th>\n",
       "      <th></th>\n",
       "      <th></th>\n",
       "      <th></th>\n",
       "      <th></th>\n",
       "      <th></th>\n",
       "      <th></th>\n",
       "    </tr>\n",
       "  </thead>\n",
       "  <tbody>\n",
       "    <tr>\n",
       "      <th>2022-02-18</th>\n",
       "      <td>755</td>\n",
       "      <td>Los Angeles</td>\n",
       "      <td>California</td>\n",
       "      <td>6037.0</td>\n",
       "      <td>2777869</td>\n",
       "      <td>30216.0</td>\n",
       "    </tr>\n",
       "    <tr>\n",
       "      <th>2022-02-19</th>\n",
       "      <td>756</td>\n",
       "      <td>Los Angeles</td>\n",
       "      <td>California</td>\n",
       "      <td>6037.0</td>\n",
       "      <td>2781027</td>\n",
       "      <td>30300.0</td>\n",
       "    </tr>\n",
       "    <tr>\n",
       "      <th>2022-02-20</th>\n",
       "      <td>757</td>\n",
       "      <td>Los Angeles</td>\n",
       "      <td>California</td>\n",
       "      <td>6037.0</td>\n",
       "      <td>2783657</td>\n",
       "      <td>30356.0</td>\n",
       "    </tr>\n",
       "    <tr>\n",
       "      <th>2022-02-21</th>\n",
       "      <td>758</td>\n",
       "      <td>Los Angeles</td>\n",
       "      <td>California</td>\n",
       "      <td>6037.0</td>\n",
       "      <td>2784980</td>\n",
       "      <td>30376.0</td>\n",
       "    </tr>\n",
       "    <tr>\n",
       "      <th>2022-02-22</th>\n",
       "      <td>759</td>\n",
       "      <td>Los Angeles</td>\n",
       "      <td>California</td>\n",
       "      <td>6037.0</td>\n",
       "      <td>2786153</td>\n",
       "      <td>30411.0</td>\n",
       "    </tr>\n",
       "  </tbody>\n",
       "</table>\n",
       "</div>"
      ],
      "text/plain": [
       "            day       county       state    fips    cases   deaths\n",
       "date                                                              \n",
       "2022-02-18  755  Los Angeles  California  6037.0  2777869  30216.0\n",
       "2022-02-19  756  Los Angeles  California  6037.0  2781027  30300.0\n",
       "2022-02-20  757  Los Angeles  California  6037.0  2783657  30356.0\n",
       "2022-02-21  758  Los Angeles  California  6037.0  2784980  30376.0\n",
       "2022-02-22  759  Los Angeles  California  6037.0  2786153  30411.0"
      ]
     },
     "execution_count": 34,
     "metadata": {},
     "output_type": "execute_result"
    }
   ],
   "source": [
    "la.tail()"
   ]
  },
  {
   "cell_type": "code",
   "execution_count": 35,
   "id": "5304d6c8",
   "metadata": {},
   "outputs": [
    {
     "name": "stderr",
     "output_type": "stream",
     "text": [
      "C:\\Users\\Nicolas\\anaconda3\\lib\\site-packages\\pandas\\core\\indexing.py:1732: SettingWithCopyWarning: \n",
      "A value is trying to be set on a copy of a slice from a DataFrame\n",
      "\n",
      "See the caveats in the documentation: https://pandas.pydata.org/pandas-docs/stable/user_guide/indexing.html#returning-a-view-versus-a-copy\n",
      "  self._setitem_single_block(indexer, value, name)\n"
     ]
    }
   ],
   "source": [
    "# Column for new cases per day\n",
    "la['new_cases'] = 0 \n",
    "for i in range(1,len(la)):\n",
    "    la['new_cases'].iloc[i] = la['cases'].iloc[i] - la['cases'].iloc[i-1]"
   ]
  },
  {
   "cell_type": "code",
   "execution_count": 36,
   "id": "28305cb8",
   "metadata": {},
   "outputs": [],
   "source": [
    "la['week'] = la['day'] // 7\n",
    "weekly_la = la.groupby('week')[['new_cases']].sum()\n",
    "weekly_la['one_week_before'] = weekly_la['new_cases'].shift(1)\n",
    "weekly_la['change'] = weekly_la['new_cases'].shift(1) - weekly_la['new_cases'].shift(2)\n",
    "weekly_la.dropna(inplace = True)\n",
    "weekly_la = weekly_la.iloc[1::]"
   ]
  },
  {
   "cell_type": "code",
   "execution_count": 37,
   "id": "38a81457",
   "metadata": {},
   "outputs": [
    {
     "data": {
      "text/html": [
       "<div>\n",
       "<style scoped>\n",
       "    .dataframe tbody tr th:only-of-type {\n",
       "        vertical-align: middle;\n",
       "    }\n",
       "\n",
       "    .dataframe tbody tr th {\n",
       "        vertical-align: top;\n",
       "    }\n",
       "\n",
       "    .dataframe thead th {\n",
       "        text-align: right;\n",
       "    }\n",
       "</style>\n",
       "<table border=\"1\" class=\"dataframe\">\n",
       "  <thead>\n",
       "    <tr style=\"text-align: right;\">\n",
       "      <th></th>\n",
       "      <th>new_cases</th>\n",
       "      <th>one_week_before</th>\n",
       "      <th>change</th>\n",
       "    </tr>\n",
       "    <tr>\n",
       "      <th>week</th>\n",
       "      <th></th>\n",
       "      <th></th>\n",
       "      <th></th>\n",
       "    </tr>\n",
       "  </thead>\n",
       "  <tbody>\n",
       "    <tr>\n",
       "      <th>3</th>\n",
       "      <td>0</td>\n",
       "      <td>0.0</td>\n",
       "      <td>0.0</td>\n",
       "    </tr>\n",
       "    <tr>\n",
       "      <th>4</th>\n",
       "      <td>0</td>\n",
       "      <td>0.0</td>\n",
       "      <td>0.0</td>\n",
       "    </tr>\n",
       "    <tr>\n",
       "      <th>5</th>\n",
       "      <td>12</td>\n",
       "      <td>0.0</td>\n",
       "      <td>0.0</td>\n",
       "    </tr>\n",
       "    <tr>\n",
       "      <th>6</th>\n",
       "      <td>27</td>\n",
       "      <td>12.0</td>\n",
       "      <td>12.0</td>\n",
       "    </tr>\n",
       "    <tr>\n",
       "      <th>7</th>\n",
       "      <td>252</td>\n",
       "      <td>27.0</td>\n",
       "      <td>15.0</td>\n",
       "    </tr>\n",
       "    <tr>\n",
       "      <th>...</th>\n",
       "      <td>...</td>\n",
       "      <td>...</td>\n",
       "      <td>...</td>\n",
       "    </tr>\n",
       "    <tr>\n",
       "      <th>104</th>\n",
       "      <td>181641</td>\n",
       "      <td>256736.0</td>\n",
       "      <td>-27746.0</td>\n",
       "    </tr>\n",
       "    <tr>\n",
       "      <th>105</th>\n",
       "      <td>99977</td>\n",
       "      <td>181641.0</td>\n",
       "      <td>-75095.0</td>\n",
       "    </tr>\n",
       "    <tr>\n",
       "      <th>106</th>\n",
       "      <td>42036</td>\n",
       "      <td>99977.0</td>\n",
       "      <td>-81664.0</td>\n",
       "    </tr>\n",
       "    <tr>\n",
       "      <th>107</th>\n",
       "      <td>24767</td>\n",
       "      <td>42036.0</td>\n",
       "      <td>-57941.0</td>\n",
       "    </tr>\n",
       "    <tr>\n",
       "      <th>108</th>\n",
       "      <td>8284</td>\n",
       "      <td>24767.0</td>\n",
       "      <td>-17269.0</td>\n",
       "    </tr>\n",
       "  </tbody>\n",
       "</table>\n",
       "<p>106 rows × 3 columns</p>\n",
       "</div>"
      ],
      "text/plain": [
       "      new_cases  one_week_before   change\n",
       "week                                     \n",
       "3             0              0.0      0.0\n",
       "4             0              0.0      0.0\n",
       "5            12              0.0      0.0\n",
       "6            27             12.0     12.0\n",
       "7           252             27.0     15.0\n",
       "...         ...              ...      ...\n",
       "104      181641         256736.0 -27746.0\n",
       "105       99977         181641.0 -75095.0\n",
       "106       42036          99977.0 -81664.0\n",
       "107       24767          42036.0 -57941.0\n",
       "108        8284          24767.0 -17269.0\n",
       "\n",
       "[106 rows x 3 columns]"
      ]
     },
     "execution_count": 37,
     "metadata": {},
     "output_type": "execute_result"
    }
   ],
   "source": [
    "weekly_la"
   ]
  },
  {
   "cell_type": "markdown",
   "id": "9d3e3611",
   "metadata": {},
   "source": [
    "#### ARIMA model"
   ]
  },
  {
   "cell_type": "code",
   "execution_count": 38,
   "id": "0538a20d",
   "metadata": {},
   "outputs": [
    {
     "name": "stdout",
     "output_type": "stream",
     "text": [
      "Performing stepwise search to minimize aic\n",
      " ARIMA(2,0,2)(0,0,0)[0] intercept   : AIC=2323.693, Time=0.02 sec\n",
      " ARIMA(0,0,0)(0,0,0)[0] intercept   : AIC=2589.054, Time=0.00 sec\n",
      " ARIMA(1,0,0)(0,0,0)[0] intercept   : AIC=2407.557, Time=0.01 sec\n",
      " ARIMA(0,0,1)(0,0,0)[0] intercept   : AIC=2513.781, Time=0.02 sec\n",
      " ARIMA(0,0,0)(0,0,0)[0]             : AIC=2615.062, Time=0.00 sec\n",
      " ARIMA(1,0,2)(0,0,0)[0] intercept   : AIC=2330.720, Time=0.05 sec\n",
      " ARIMA(2,0,1)(0,0,0)[0] intercept   : AIC=2335.632, Time=0.02 sec\n",
      " ARIMA(3,0,2)(0,0,0)[0] intercept   : AIC=2325.537, Time=0.05 sec\n",
      " ARIMA(2,0,3)(0,0,0)[0] intercept   : AIC=2326.056, Time=0.05 sec\n",
      " ARIMA(1,0,1)(0,0,0)[0] intercept   : AIC=2366.411, Time=0.02 sec\n",
      " ARIMA(1,0,3)(0,0,0)[0] intercept   : AIC=2327.295, Time=0.03 sec\n",
      " ARIMA(3,0,1)(0,0,0)[0] intercept   : AIC=2338.251, Time=0.05 sec\n",
      " ARIMA(3,0,3)(0,0,0)[0] intercept   : AIC=2327.390, Time=0.06 sec\n",
      " ARIMA(2,0,2)(0,0,0)[0]             : AIC=2325.575, Time=0.02 sec\n",
      "\n",
      "Best model:  ARIMA(2,0,2)(0,0,0)[0] intercept\n",
      "Total fit time: 0.396 seconds\n"
     ]
    }
   ],
   "source": [
    "# ARIMA Model \n",
    "from pmdarima import auto_arima\n",
    "stepwise_fit = auto_arima(weekly_la['new_cases'], trace = True)"
   ]
  },
  {
   "cell_type": "code",
   "execution_count": 39,
   "id": "8a7b3781",
   "metadata": {},
   "outputs": [
    {
     "name": "stderr",
     "output_type": "stream",
     "text": [
      "C:\\Users\\Nicolas\\anaconda3\\lib\\site-packages\\statsmodels\\tsa\\base\\tsa_model.py:578: ValueWarning: An unsupported index was provided and will be ignored when e.g. forecasting.\n",
      "  warnings.warn('An unsupported index was provided and will be'\n",
      "C:\\Users\\Nicolas\\anaconda3\\lib\\site-packages\\statsmodels\\tsa\\base\\tsa_model.py:578: ValueWarning: An unsupported index was provided and will be ignored when e.g. forecasting.\n",
      "  warnings.warn('An unsupported index was provided and will be'\n",
      "C:\\Users\\Nicolas\\anaconda3\\lib\\site-packages\\statsmodels\\tsa\\base\\tsa_model.py:578: ValueWarning: An unsupported index was provided and will be ignored when e.g. forecasting.\n",
      "  warnings.warn('An unsupported index was provided and will be'\n"
     ]
    },
    {
     "data": {
      "text/html": [
       "<table class=\"simpletable\">\n",
       "<caption>SARIMAX Results</caption>\n",
       "<tr>\n",
       "  <th>Dep. Variable:</th>       <td>new_cases</td>    <th>  No. Observations:  </th>    <td>106</td>   \n",
       "</tr>\n",
       "<tr>\n",
       "  <th>Model:</th>            <td>ARIMA(2, 0, 2)</td>  <th>  Log Likelihood     </th> <td>-1155.606</td>\n",
       "</tr>\n",
       "<tr>\n",
       "  <th>Date:</th>            <td>Tue, 01 Mar 2022</td> <th>  AIC                </th> <td>2323.213</td> \n",
       "</tr>\n",
       "<tr>\n",
       "  <th>Time:</th>                <td>23:37:12</td>     <th>  BIC                </th> <td>2339.194</td> \n",
       "</tr>\n",
       "<tr>\n",
       "  <th>Sample:</th>                  <td>0</td>        <th>  HQIC               </th> <td>2329.690</td> \n",
       "</tr>\n",
       "<tr>\n",
       "  <th></th>                      <td> - 106</td>      <th>                     </th>     <td> </td>    \n",
       "</tr>\n",
       "<tr>\n",
       "  <th>Covariance Type:</th>        <td>opg</td>       <th>                     </th>     <td> </td>    \n",
       "</tr>\n",
       "</table>\n",
       "<table class=\"simpletable\">\n",
       "<tr>\n",
       "     <td></td>       <th>coef</th>     <th>std err</th>      <th>z</th>      <th>P>|z|</th>  <th>[0.025</th>    <th>0.975]</th>  \n",
       "</tr>\n",
       "<tr>\n",
       "  <th>const</th>  <td> 2.628e+04</td> <td> 1.73e+04</td> <td>    1.521</td> <td> 0.128</td> <td>-7578.352</td> <td> 6.01e+04</td>\n",
       "</tr>\n",
       "<tr>\n",
       "  <th>ar.L1</th>  <td>    1.1936</td> <td>    0.173</td> <td>    6.910</td> <td> 0.000</td> <td>    0.855</td> <td>    1.532</td>\n",
       "</tr>\n",
       "<tr>\n",
       "  <th>ar.L2</th>  <td>   -0.4231</td> <td>    0.180</td> <td>   -2.357</td> <td> 0.018</td> <td>   -0.775</td> <td>   -0.071</td>\n",
       "</tr>\n",
       "<tr>\n",
       "  <th>ma.L1</th>  <td>    0.4443</td> <td>    0.162</td> <td>    2.749</td> <td> 0.006</td> <td>    0.128</td> <td>    0.761</td>\n",
       "</tr>\n",
       "<tr>\n",
       "  <th>ma.L2</th>  <td>    0.5312</td> <td>    0.167</td> <td>    3.176</td> <td> 0.001</td> <td>    0.203</td> <td>    0.859</td>\n",
       "</tr>\n",
       "<tr>\n",
       "  <th>sigma2</th> <td> 1.802e+08</td> <td>   19.591</td> <td>  9.2e+06</td> <td> 0.000</td> <td>  1.8e+08</td> <td>  1.8e+08</td>\n",
       "</tr>\n",
       "</table>\n",
       "<table class=\"simpletable\">\n",
       "<tr>\n",
       "  <th>Ljung-Box (L1) (Q):</th>     <td>0.01</td>  <th>  Jarque-Bera (JB):  </th> <td>456.14</td>\n",
       "</tr>\n",
       "<tr>\n",
       "  <th>Prob(Q):</th>                <td>0.91</td>  <th>  Prob(JB):          </th>  <td>0.00</td> \n",
       "</tr>\n",
       "<tr>\n",
       "  <th>Heteroskedasticity (H):</th> <td>26.29</td> <th>  Skew:              </th>  <td>1.55</td> \n",
       "</tr>\n",
       "<tr>\n",
       "  <th>Prob(H) (two-sided):</th>    <td>0.00</td>  <th>  Kurtosis:          </th>  <td>12.68</td>\n",
       "</tr>\n",
       "</table><br/><br/>Warnings:<br/>[1] Covariance matrix calculated using the outer product of gradients (complex-step).<br/>[2] Covariance matrix is singular or near-singular, with condition number 1.75e+21. Standard errors may be unstable."
      ],
      "text/plain": [
       "<class 'statsmodels.iolib.summary.Summary'>\n",
       "\"\"\"\n",
       "                               SARIMAX Results                                \n",
       "==============================================================================\n",
       "Dep. Variable:              new_cases   No. Observations:                  106\n",
       "Model:                 ARIMA(2, 0, 2)   Log Likelihood               -1155.606\n",
       "Date:                Tue, 01 Mar 2022   AIC                           2323.213\n",
       "Time:                        23:37:12   BIC                           2339.194\n",
       "Sample:                             0   HQIC                          2329.690\n",
       "                                - 106                                         \n",
       "Covariance Type:                  opg                                         \n",
       "==============================================================================\n",
       "                 coef    std err          z      P>|z|      [0.025      0.975]\n",
       "------------------------------------------------------------------------------\n",
       "const       2.628e+04   1.73e+04      1.521      0.128   -7578.352    6.01e+04\n",
       "ar.L1          1.1936      0.173      6.910      0.000       0.855       1.532\n",
       "ar.L2         -0.4231      0.180     -2.357      0.018      -0.775      -0.071\n",
       "ma.L1          0.4443      0.162      2.749      0.006       0.128       0.761\n",
       "ma.L2          0.5312      0.167      3.176      0.001       0.203       0.859\n",
       "sigma2      1.802e+08     19.591    9.2e+06      0.000     1.8e+08     1.8e+08\n",
       "===================================================================================\n",
       "Ljung-Box (L1) (Q):                   0.01   Jarque-Bera (JB):               456.14\n",
       "Prob(Q):                              0.91   Prob(JB):                         0.00\n",
       "Heteroskedasticity (H):              26.29   Skew:                             1.55\n",
       "Prob(H) (two-sided):                  0.00   Kurtosis:                        12.68\n",
       "===================================================================================\n",
       "\n",
       "Warnings:\n",
       "[1] Covariance matrix calculated using the outer product of gradients (complex-step).\n",
       "[2] Covariance matrix is singular or near-singular, with condition number 1.75e+21. Standard errors may be unstable.\n",
       "\"\"\""
      ]
     },
     "execution_count": 39,
     "metadata": {},
     "output_type": "execute_result"
    }
   ],
   "source": [
    "import statsmodels.api as sm\n",
    "model = sm.tsa.arima.ARIMA(weekly_la['new_cases'], order = (2,0,2))\n",
    "model = model.fit()\n",
    "model.summary()"
   ]
  },
  {
   "cell_type": "code",
   "execution_count": 40,
   "id": "f879405f",
   "metadata": {},
   "outputs": [],
   "source": [
    "preds = model.predict()"
   ]
  },
  {
   "cell_type": "code",
   "execution_count": 41,
   "id": "4fb08048",
   "metadata": {},
   "outputs": [
    {
     "data": {
      "text/plain": [
       "<matplotlib.legend.Legend at 0x1c4db1821f0>"
      ]
     },
     "execution_count": 41,
     "metadata": {},
     "output_type": "execute_result"
    },
    {
     "data": {
      "image/png": "[encoded data removed]",
      "text/plain": [
       "<Figure size 1152x720 with 1 Axes>"
      ]
     },
     "metadata": {
      "needs_background": "light"
     },
     "output_type": "display_data"
    }
   ],
   "source": [
    "plt.figure(figsize = (16,10))\n",
    "plt.plot(weekly_la['new_cases'], label = 'Confirmed Weekly Cases')\n",
    "plt.plot(model.predict(), label = 'ARIMA Predictions', color='tab:pink', linestyle='dashed')\n",
    "plt.xlabel('Weeks Since 1/26/2020', fontsize=18)\n",
    "plt.ylabel('New Cases', fontsize=18)\n",
    "plt.title('ARIMA Weekly COVID-19 Predicted Cases for LA County', fontsize=22)\n",
    "plt.legend(prop={'size': 14})\n",
    "# plt.savefig(\"arima.png\")\n",
    "# files.download(\"arima.png\") "
   ]
  },
  {
   "cell_type": "code",
   "execution_count": 42,
   "id": "54c14974",
   "metadata": {},
   "outputs": [],
   "source": [
    "# Week\n",
    "week = 108"
   ]
  },
  {
   "cell_type": "code",
   "execution_count": 43,
   "id": "f406d396",
   "metadata": {},
   "outputs": [
    {
     "name": "stdout",
     "output_type": "stream",
     "text": [
      "MAE: 6756.3068020718965\n",
      "MSE: 171932700.93029645\n"
     ]
    }
   ],
   "source": [
    "# MAE and MSE\n",
    "from sklearn.metrics import mean_absolute_error\n",
    "from sklearn.metrics import mean_squared_error\n",
    "print('MAE:', mean_absolute_error(weekly_la['new_cases'], preds))\n",
    "print('MSE:', mean_squared_error(weekly_la['new_cases'], preds))"
   ]
  },
  {
   "cell_type": "code",
   "execution_count": 44,
   "id": "1df2837b",
   "metadata": {},
   "outputs": [
    {
     "name": "stdout",
     "output_type": "stream",
     "text": [
      "R^2: 0.9247406322023894\n"
     ]
    }
   ],
   "source": [
    "from sklearn.metrics import r2_score\n",
    "print('R^2:', r2_score(weekly_la['new_cases'], preds))"
   ]
  },
  {
   "cell_type": "code",
   "execution_count": 46,
   "id": "6ecfe1a1",
   "metadata": {},
   "outputs": [
    {
     "data": {
      "text/plain": [
       "new_cases           8284.0\n",
       "one_week_before    24767.0\n",
       "change            -17269.0\n",
       "Name: 108, dtype: float64"
      ]
     },
     "execution_count": 46,
     "metadata": {},
     "output_type": "execute_result"
    }
   ],
   "source": [
    "# Actual data from Week 108\n",
    "week_actual = weekly_la.loc[week]\n",
    "week_actual"
   ]
  },
  {
   "cell_type": "code",
   "execution_count": 45,
   "id": "bc11fd02",
   "metadata": {},
   "outputs": [
    {
     "name": "stderr",
     "output_type": "stream",
     "text": [
      "C:\\Users\\Nicolas\\anaconda3\\lib\\site-packages\\statsmodels\\tsa\\base\\tsa_model.py:376: ValueWarning: No supported index is available. Prediction results will be given with an integer index beginning at `start`.\n",
      "  warnings.warn('No supported index is available.'\n"
     ]
    },
    {
     "data": {
      "text/plain": [
       "108     9702.589881\n",
       "109    15590.093094\n",
       "110    20535.687035\n",
       "Name: predicted_mean, dtype: float64"
      ]
     },
     "execution_count": 45,
     "metadata": {},
     "output_type": "execute_result"
    }
   ],
   "source": [
    "# Predictions\n",
    "model.predict(start = week, end = week + 2)"
   ]
  }
 ],
 "metadata": {
  "kernelspec": {
   "display_name": "Python 3 (ipykernel)",
   "language": "python",
   "name": "python3"
  },
  "language_info": {
   "codemirror_mode": {
    "name": "ipython",
    "version": 3
   },
   "file_extension": ".py",
   "mimetype": "text/x-python",
   "name": "python",
   "nbconvert_exporter": "python",
   "pygments_lexer": "ipython3",
   "version": "3.9.7"
  }
 },
 "nbformat": 4,
 "nbformat_minor": 5
}
