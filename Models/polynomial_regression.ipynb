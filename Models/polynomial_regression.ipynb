{
 "cells": [
  {
   "cell_type": "code",
   "execution_count": 1,
   "id": "34d1a009",
   "metadata": {},
   "outputs": [],
   "source": [
    "# Imports\n",
    "import matplotlib.pyplot as plt\n",
    "import pandas as pd\n",
    "import numpy as np\n",
    "import sklearn\n",
    "from sklearn.preprocessing import PolynomialFeatures\n",
    "from sklearn import linear_model\n",
    "from sklearn.linear_model import LinearRegression\n",
    "from sklearn.pipeline import make_pipeline\n",
    "from sklearn.model_selection import cross_val_score"
   ]
  },
  {
   "cell_type": "markdown",
   "id": "5ff30488",
   "metadata": {},
   "source": [
    "#### Data preprocessing"
   ]
  },
  {
   "cell_type": "code",
   "execution_count": 2,
   "id": "367e7399",
   "metadata": {},
   "outputs": [],
   "source": [
    "# Reading in LA County case and death data\n",
    "# 1/26/2020 through 2/22/2022 for this iteration\n",
    "la = pd.read_csv('https://raw.githubusercontent.com/nmonozon/modeling-covid-19/main/Datasets/covid-19-los-angeles-county.csv', index_col='date')[0:759]"
   ]
  },
  {
   "cell_type": "code",
   "execution_count": 3,
   "id": "88fd374d",
   "metadata": {},
   "outputs": [
    {
     "data": {
      "text/html": [
       "<div>\n",
       "<style scoped>\n",
       "    .dataframe tbody tr th:only-of-type {\n",
       "        vertical-align: middle;\n",
       "    }\n",
       "\n",
       "    .dataframe tbody tr th {\n",
       "        vertical-align: top;\n",
       "    }\n",
       "\n",
       "    .dataframe thead th {\n",
       "        text-align: right;\n",
       "    }\n",
       "</style>\n",
       "<table border=\"1\" class=\"dataframe\">\n",
       "  <thead>\n",
       "    <tr style=\"text-align: right;\">\n",
       "      <th></th>\n",
       "      <th>day</th>\n",
       "      <th>county</th>\n",
       "      <th>state</th>\n",
       "      <th>fips</th>\n",
       "      <th>cases</th>\n",
       "      <th>deaths</th>\n",
       "    </tr>\n",
       "    <tr>\n",
       "      <th>date</th>\n",
       "      <th></th>\n",
       "      <th></th>\n",
       "      <th></th>\n",
       "      <th></th>\n",
       "      <th></th>\n",
       "      <th></th>\n",
       "    </tr>\n",
       "  </thead>\n",
       "  <tbody>\n",
       "    <tr>\n",
       "      <th>2022-02-18</th>\n",
       "      <td>755</td>\n",
       "      <td>Los Angeles</td>\n",
       "      <td>California</td>\n",
       "      <td>6037.0</td>\n",
       "      <td>2777869</td>\n",
       "      <td>30216.0</td>\n",
       "    </tr>\n",
       "    <tr>\n",
       "      <th>2022-02-19</th>\n",
       "      <td>756</td>\n",
       "      <td>Los Angeles</td>\n",
       "      <td>California</td>\n",
       "      <td>6037.0</td>\n",
       "      <td>2781027</td>\n",
       "      <td>30300.0</td>\n",
       "    </tr>\n",
       "    <tr>\n",
       "      <th>2022-02-20</th>\n",
       "      <td>757</td>\n",
       "      <td>Los Angeles</td>\n",
       "      <td>California</td>\n",
       "      <td>6037.0</td>\n",
       "      <td>2783657</td>\n",
       "      <td>30356.0</td>\n",
       "    </tr>\n",
       "    <tr>\n",
       "      <th>2022-02-21</th>\n",
       "      <td>758</td>\n",
       "      <td>Los Angeles</td>\n",
       "      <td>California</td>\n",
       "      <td>6037.0</td>\n",
       "      <td>2784980</td>\n",
       "      <td>30376.0</td>\n",
       "    </tr>\n",
       "    <tr>\n",
       "      <th>2022-02-22</th>\n",
       "      <td>759</td>\n",
       "      <td>Los Angeles</td>\n",
       "      <td>California</td>\n",
       "      <td>6037.0</td>\n",
       "      <td>2786153</td>\n",
       "      <td>30411.0</td>\n",
       "    </tr>\n",
       "  </tbody>\n",
       "</table>\n",
       "</div>"
      ],
      "text/plain": [
       "            day       county       state    fips    cases   deaths\n",
       "date                                                              \n",
       "2022-02-18  755  Los Angeles  California  6037.0  2777869  30216.0\n",
       "2022-02-19  756  Los Angeles  California  6037.0  2781027  30300.0\n",
       "2022-02-20  757  Los Angeles  California  6037.0  2783657  30356.0\n",
       "2022-02-21  758  Los Angeles  California  6037.0  2784980  30376.0\n",
       "2022-02-22  759  Los Angeles  California  6037.0  2786153  30411.0"
      ]
     },
     "execution_count": 3,
     "metadata": {},
     "output_type": "execute_result"
    }
   ],
   "source": [
    "la.tail()"
   ]
  },
  {
   "cell_type": "code",
   "execution_count": 4,
   "id": "dd37e66b",
   "metadata": {},
   "outputs": [
    {
     "name": "stderr",
     "output_type": "stream",
     "text": [
      "C:\\Users\\Nicolas\\anaconda3\\lib\\site-packages\\pandas\\core\\indexing.py:1732: SettingWithCopyWarning: \n",
      "A value is trying to be set on a copy of a slice from a DataFrame\n",
      "\n",
      "See the caveats in the documentation: https://pandas.pydata.org/pandas-docs/stable/user_guide/indexing.html#returning-a-view-versus-a-copy\n",
      "  self._setitem_single_block(indexer, value, name)\n"
     ]
    }
   ],
   "source": [
    "# Column for new cases per day\n",
    "la['new_cases'] = 0 \n",
    "for i in range(1,len(la)):\n",
    "    la['new_cases'].iloc[i] = la['cases'].iloc[i] - la['cases'].iloc[i-1]"
   ]
  },
  {
   "cell_type": "code",
   "execution_count": 5,
   "id": "21f67b4d",
   "metadata": {},
   "outputs": [],
   "source": [
    "la['week'] = la['day'] // 7\n",
    "weekly_la = la.groupby('week')[['new_cases']].sum()\n",
    "weekly_la['one_week_before'] = weekly_la['new_cases'].shift(1)\n",
    "weekly_la['change'] = weekly_la['new_cases'].shift(1) - weekly_la['new_cases'].shift(2)\n",
    "weekly_la.dropna(inplace = True)\n",
    "weekly_la = weekly_la.iloc[1::]"
   ]
  },
  {
   "cell_type": "code",
   "execution_count": 6,
   "id": "644939c1",
   "metadata": {},
   "outputs": [
    {
     "data": {
      "text/html": [
       "<div>\n",
       "<style scoped>\n",
       "    .dataframe tbody tr th:only-of-type {\n",
       "        vertical-align: middle;\n",
       "    }\n",
       "\n",
       "    .dataframe tbody tr th {\n",
       "        vertical-align: top;\n",
       "    }\n",
       "\n",
       "    .dataframe thead th {\n",
       "        text-align: right;\n",
       "    }\n",
       "</style>\n",
       "<table border=\"1\" class=\"dataframe\">\n",
       "  <thead>\n",
       "    <tr style=\"text-align: right;\">\n",
       "      <th></th>\n",
       "      <th>new_cases</th>\n",
       "      <th>one_week_before</th>\n",
       "      <th>change</th>\n",
       "    </tr>\n",
       "    <tr>\n",
       "      <th>week</th>\n",
       "      <th></th>\n",
       "      <th></th>\n",
       "      <th></th>\n",
       "    </tr>\n",
       "  </thead>\n",
       "  <tbody>\n",
       "    <tr>\n",
       "      <th>3</th>\n",
       "      <td>0</td>\n",
       "      <td>0.0</td>\n",
       "      <td>0.0</td>\n",
       "    </tr>\n",
       "    <tr>\n",
       "      <th>4</th>\n",
       "      <td>0</td>\n",
       "      <td>0.0</td>\n",
       "      <td>0.0</td>\n",
       "    </tr>\n",
       "    <tr>\n",
       "      <th>5</th>\n",
       "      <td>12</td>\n",
       "      <td>0.0</td>\n",
       "      <td>0.0</td>\n",
       "    </tr>\n",
       "    <tr>\n",
       "      <th>6</th>\n",
       "      <td>27</td>\n",
       "      <td>12.0</td>\n",
       "      <td>12.0</td>\n",
       "    </tr>\n",
       "    <tr>\n",
       "      <th>7</th>\n",
       "      <td>252</td>\n",
       "      <td>27.0</td>\n",
       "      <td>15.0</td>\n",
       "    </tr>\n",
       "    <tr>\n",
       "      <th>...</th>\n",
       "      <td>...</td>\n",
       "      <td>...</td>\n",
       "      <td>...</td>\n",
       "    </tr>\n",
       "    <tr>\n",
       "      <th>104</th>\n",
       "      <td>181641</td>\n",
       "      <td>256736.0</td>\n",
       "      <td>-27746.0</td>\n",
       "    </tr>\n",
       "    <tr>\n",
       "      <th>105</th>\n",
       "      <td>99977</td>\n",
       "      <td>181641.0</td>\n",
       "      <td>-75095.0</td>\n",
       "    </tr>\n",
       "    <tr>\n",
       "      <th>106</th>\n",
       "      <td>42036</td>\n",
       "      <td>99977.0</td>\n",
       "      <td>-81664.0</td>\n",
       "    </tr>\n",
       "    <tr>\n",
       "      <th>107</th>\n",
       "      <td>24767</td>\n",
       "      <td>42036.0</td>\n",
       "      <td>-57941.0</td>\n",
       "    </tr>\n",
       "    <tr>\n",
       "      <th>108</th>\n",
       "      <td>8284</td>\n",
       "      <td>24767.0</td>\n",
       "      <td>-17269.0</td>\n",
       "    </tr>\n",
       "  </tbody>\n",
       "</table>\n",
       "<p>106 rows × 3 columns</p>\n",
       "</div>"
      ],
      "text/plain": [
       "      new_cases  one_week_before   change\n",
       "week                                     \n",
       "3             0              0.0      0.0\n",
       "4             0              0.0      0.0\n",
       "5            12              0.0      0.0\n",
       "6            27             12.0     12.0\n",
       "7           252             27.0     15.0\n",
       "...         ...              ...      ...\n",
       "104      181641         256736.0 -27746.0\n",
       "105       99977         181641.0 -75095.0\n",
       "106       42036          99977.0 -81664.0\n",
       "107       24767          42036.0 -57941.0\n",
       "108        8284          24767.0 -17269.0\n",
       "\n",
       "[106 rows x 3 columns]"
      ]
     },
     "execution_count": 6,
     "metadata": {},
     "output_type": "execute_result"
    }
   ],
   "source": [
    "weekly_la"
   ]
  },
  {
   "cell_type": "markdown",
   "id": "76b5bdbf",
   "metadata": {},
   "source": [
    "#### Polynomial Regression model"
   ]
  },
  {
   "cell_type": "code",
   "execution_count": 7,
   "id": "d99b580d",
   "metadata": {},
   "outputs": [
    {
     "data": {
      "text/plain": [
       "array([-3.49200997e+03, -3.40384633e+03, -9.62039701e+04, -4.81346396e+03,\n",
       "       -3.50760158e+06])"
      ]
     },
     "execution_count": 7,
     "metadata": {},
     "output_type": "execute_result"
    }
   ],
   "source": [
    "# Cross validating polynomial regression model\n",
    "degree = 4\n",
    "polynomial_model = make_pipeline(PolynomialFeatures(degree), LinearRegression())\n",
    "cv = cross_val_score(polynomial_model, weekly_la.drop(columns = ['new_cases']), \n",
    "                     weekly_la['new_cases'], scoring = 'neg_mean_absolute_error', cv = 5)\n",
    "cv"
   ]
  },
  {
   "cell_type": "code",
   "execution_count": 8,
   "id": "028f60fd",
   "metadata": {},
   "outputs": [],
   "source": [
    "# Fitting a degree 4 polynomial\n",
    "polynomial_model.fit(weekly_la.drop(columns=['new_cases']), weekly_la['new_cases'])\n",
    "poly_preds = polynomial_model.predict(weekly_la.drop(columns = ['new_cases']))"
   ]
  },
  {
   "cell_type": "code",
   "execution_count": 9,
   "id": "ef1dbfba",
   "metadata": {},
   "outputs": [
    {
     "data": {
      "text/plain": [
       "<matplotlib.legend.Legend at 0x25070470400>"
      ]
     },
     "execution_count": 9,
     "metadata": {},
     "output_type": "execute_result"
    },
    {
     "data": {
      "image/png": "[encoded data removed]",
      "text/plain": [
       "<Figure size 1152x720 with 1 Axes>"
      ]
     },
     "metadata": {
      "needs_background": "light"
     },
     "output_type": "display_data"
    }
   ],
   "source": [
    "# Visualization\n",
    "plt.figure(figsize = (16,10))\n",
    "plt.plot(weekly_la['new_cases'], label = 'Confirmed Weekly Cases')\n",
    "plt.plot(poly_preds, label = 'Polynomial Regression Predicted Cases', color='green', linestyle='dashed')\n",
    "plt.xlabel('Weeks Since 1/26/2020', fontsize=18)\n",
    "plt.ylabel('New Cases', fontsize=18)\n",
    "plt.title('Polynomial Regression Weekly COVID-19 Predicted Cases for LA County', fontsize=22)\n",
    "plt.legend(prop={'size': 14})\n",
    "# plt.savefig(\"polynomial_regression.png\")\n",
    "# files.download(\"polynomial_regression.png\") "
   ]
  },
  {
   "cell_type": "code",
   "execution_count": 10,
   "id": "ad2e33dd",
   "metadata": {},
   "outputs": [
    {
     "name": "stdout",
     "output_type": "stream",
     "text": [
      "MAE: 4521.17527220788\n",
      "MSE: 61271622.08701846\n"
     ]
    }
   ],
   "source": [
    "# MAE and MSE\n",
    "from sklearn.metrics import mean_absolute_error\n",
    "from sklearn.metrics import mean_squared_error\n",
    "print('MAE:', mean_absolute_error(weekly_la['new_cases'], poly_preds))\n",
    "print('MSE:', mean_squared_error(weekly_la['new_cases'], poly_preds))"
   ]
  },
  {
   "cell_type": "code",
   "execution_count": 11,
   "id": "5b7bc0b5",
   "metadata": {},
   "outputs": [],
   "source": [
    "# Week \n",
    "week = 108"
   ]
  },
  {
   "cell_type": "code",
   "execution_count": 12,
   "id": "b6dc42f3",
   "metadata": {},
   "outputs": [
    {
     "name": "stdout",
     "output_type": "stream",
     "text": [
      "R^2: 0.9731798342185494\n"
     ]
    }
   ],
   "source": [
    "# R^2\n",
    "from sklearn.metrics import r2_score\n",
    "print('R^2:', r2_score(weekly_la['new_cases'], poly_preds))"
   ]
  },
  {
   "cell_type": "code",
   "execution_count": 13,
   "id": "8b0f207d",
   "metadata": {},
   "outputs": [
    {
     "data": {
      "text/plain": [
       "new_cases           8284.0\n",
       "one_week_before    24767.0\n",
       "change            -17269.0\n",
       "Name: 108, dtype: float64"
      ]
     },
     "execution_count": 13,
     "metadata": {},
     "output_type": "execute_result"
    }
   ],
   "source": [
    "# Actual data from Week 108\n",
    "week_actual = weekly_la.loc[week]\n",
    "week_actual"
   ]
  },
  {
   "cell_type": "code",
   "execution_count": 14,
   "id": "ad0edc68",
   "metadata": {},
   "outputs": [
    {
     "data": {
      "text/plain": [
       "1518"
      ]
     },
     "execution_count": 14,
     "metadata": {},
     "output_type": "execute_result"
    }
   ],
   "source": [
    "# Predicted data for Week 108\n",
    "poly_prediction = polynomial_model.predict(pd.DataFrame(np.array([[week_actual['new_cases'], \n",
    "                      week_actual['new_cases'] - week_actual['one_week_before']]]), columns = weekly_la.columns[1:]))\n",
    "int(poly_prediction)"
   ]
  }
 ],
 "metadata": {
  "kernelspec": {
   "display_name": "Python 3 (ipykernel)",
   "language": "python",
   "name": "python3"
  },
  "language_info": {
   "codemirror_mode": {
    "name": "ipython",
    "version": 3
   },
   "file_extension": ".py",
   "mimetype": "text/x-python",
   "name": "python",
   "nbconvert_exporter": "python",
   "pygments_lexer": "ipython3",
   "version": "3.9.7"
  }
 },
 "nbformat": 4,
 "nbformat_minor": 5
}
